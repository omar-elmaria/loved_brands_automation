{
 "cells": [
  {
   "cell_type": "markdown",
   "metadata": {},
   "source": [
    "### Step 1: Load the packages"
   ]
  },
  {
   "cell_type": "code",
   "execution_count": 92,
   "metadata": {},
   "outputs": [],
   "source": [
    "import pandas as pd\n",
    "import numpy as np\n",
    "from google.cloud import bigquery\n",
    "from google.cloud import bigquery_storage\n",
    "from sklearn.linear_model import LinearRegression\n",
    "import warnings\n",
    "warnings.filterwarnings(action=\"ignore\") # Suppress pandas warnings"
   ]
  },
  {
   "cell_type": "markdown",
   "metadata": {},
   "source": [
    "### Step 2: Download the datasets that contains the asa and vendor level CVRs"
   ]
  },
  {
   "cell_type": "code",
   "execution_count": 93,
   "metadata": {},
   "outputs": [],
   "source": [
    "client = bigquery.Client(project=\"logistics-data-staging-flat\")\n",
    "bqstorage_client = bigquery_storage.BigQueryReadClient()\n",
    "vendor_query = \"\"\"SELECT * FROM `dh-logistics-product-ops.pricing.cvr_per_df_bucket_vendor_level_loved_brands_scaled_code`\"\"\"\n",
    "asa_query = \"\"\"SELECT * FROM `dh-logistics-product-ops.pricing.cvr_per_df_bucket_asa_level_loved_brands_scaled_code`\"\"\"\n",
    "\n",
    "# Download the datasets\n",
    "df_vendor = client.query(query=vendor_query).result().to_dataframe(bqstorage_client=bqstorage_client)\n",
    "df_asa = client.query(query=asa_query).result().to_dataframe(bqstorage_client=bqstorage_client)"
   ]
  },
  {
   "cell_type": "markdown",
   "metadata": {},
   "source": [
    "### Step 3: Define a function that fits a linear line through the CVR points"
   ]
  },
  {
   "cell_type": "code",
   "execution_count": 112,
   "metadata": {},
   "outputs": [],
   "source": [
    "def model(df, cvr_col):\n",
    "    data_x = df[[\"df_total\"]].values\n",
    "    data_y = df[[cvr_col]].values\n",
    "    lm = LinearRegression()\n",
    "    lm.fit(X=data_x, y=data_y)\n",
    "    return float(np.squeeze(lm.coef_))\n",
    "\n",
    "x = df_vendor[df_vendor[\"num_tiers_vendor\"] > 1].groupby([\"entity_id\", \"country_code\", \"master_asa_id\", \"vendor_code\"]).apply(model, cvr_col = \"cvr3\").to_frame(name=\"vendor_cvr3_slope\")\n",
    "y = df_asa[df_asa[\"num_tiers_master_asa\"] > 1].groupby([\"entity_id\", \"country_code\", \"master_asa_id\"]).apply(model, cvr_col = \"asa_cvr3_per_df\").to_frame(name=\"asa_cvr3_slope\")"
   ]
  },
  {
   "cell_type": "code",
   "execution_count": 113,
   "metadata": {},
   "outputs": [
    {
     "data": {
      "text/html": [
       "<div>\n",
       "<style scoped>\n",
       "    .dataframe tbody tr th:only-of-type {\n",
       "        vertical-align: middle;\n",
       "    }\n",
       "\n",
       "    .dataframe tbody tr th {\n",
       "        vertical-align: top;\n",
       "    }\n",
       "\n",
       "    .dataframe thead th {\n",
       "        text-align: right;\n",
       "    }\n",
       "</style>\n",
       "<table border=\"1\" class=\"dataframe\">\n",
       "  <thead>\n",
       "    <tr style=\"text-align: right;\">\n",
       "      <th></th>\n",
       "      <th></th>\n",
       "      <th></th>\n",
       "      <th></th>\n",
       "      <th>vendor_cvr3_slope</th>\n",
       "    </tr>\n",
       "    <tr>\n",
       "      <th>entity_id</th>\n",
       "      <th>country_code</th>\n",
       "      <th>master_asa_id</th>\n",
       "      <th>vendor_code</th>\n",
       "      <th></th>\n",
       "    </tr>\n",
       "  </thead>\n",
       "  <tbody>\n",
       "    <tr>\n",
       "      <th rowspan=\"10\" valign=\"top\">AP_PA</th>\n",
       "      <th rowspan=\"10\" valign=\"top\">pa</th>\n",
       "      <th rowspan=\"6\" valign=\"top\">4</th>\n",
       "      <th>50897</th>\n",
       "      <td>-0.4623</td>\n",
       "    </tr>\n",
       "    <tr>\n",
       "      <th>50898</th>\n",
       "      <td>-0.2246</td>\n",
       "    </tr>\n",
       "    <tr>\n",
       "      <th>50901</th>\n",
       "      <td>-0.0367</td>\n",
       "    </tr>\n",
       "    <tr>\n",
       "      <th>50908</th>\n",
       "      <td>-0.0602</td>\n",
       "    </tr>\n",
       "    <tr>\n",
       "      <th>50996</th>\n",
       "      <td>0.1337</td>\n",
       "    </tr>\n",
       "    <tr>\n",
       "      <th>54338</th>\n",
       "      <td>0.0314</td>\n",
       "    </tr>\n",
       "    <tr>\n",
       "      <th rowspan=\"4\" valign=\"top\">38</th>\n",
       "      <th>104612</th>\n",
       "      <td>0.0207</td>\n",
       "    </tr>\n",
       "    <tr>\n",
       "      <th>111365</th>\n",
       "      <td>-0.1353</td>\n",
       "    </tr>\n",
       "    <tr>\n",
       "      <th>111578</th>\n",
       "      <td>-0.1027</td>\n",
       "    </tr>\n",
       "    <tr>\n",
       "      <th>111598</th>\n",
       "      <td>-0.0522</td>\n",
       "    </tr>\n",
       "  </tbody>\n",
       "</table>\n",
       "</div>"
      ],
      "text/plain": [
       "                                                  vendor_cvr3_slope\n",
       "entity_id country_code master_asa_id vendor_code                   \n",
       "AP_PA     pa           4             50897                  -0.4623\n",
       "                                     50898                  -0.2246\n",
       "                                     50901                  -0.0367\n",
       "                                     50908                  -0.0602\n",
       "                                     50996                   0.1337\n",
       "                                     54338                   0.0314\n",
       "                       38            104612                  0.0207\n",
       "                                     111365                 -0.1353\n",
       "                                     111578                 -0.1027\n",
       "                                     111598                 -0.0522"
      ]
     },
     "metadata": {},
     "output_type": "display_data"
    },
    {
     "data": {
      "text/html": [
       "<div>\n",
       "<style scoped>\n",
       "    .dataframe tbody tr th:only-of-type {\n",
       "        vertical-align: middle;\n",
       "    }\n",
       "\n",
       "    .dataframe tbody tr th {\n",
       "        vertical-align: top;\n",
       "    }\n",
       "\n",
       "    .dataframe thead th {\n",
       "        text-align: right;\n",
       "    }\n",
       "</style>\n",
       "<table border=\"1\" class=\"dataframe\">\n",
       "  <thead>\n",
       "    <tr style=\"text-align: right;\">\n",
       "      <th></th>\n",
       "      <th></th>\n",
       "      <th></th>\n",
       "      <th>asa_cvr3_slope</th>\n",
       "    </tr>\n",
       "    <tr>\n",
       "      <th>entity_id</th>\n",
       "      <th>country_code</th>\n",
       "      <th>master_asa_id</th>\n",
       "      <th></th>\n",
       "    </tr>\n",
       "  </thead>\n",
       "  <tbody>\n",
       "    <tr>\n",
       "      <th rowspan=\"10\" valign=\"top\">AP_PA</th>\n",
       "      <th rowspan=\"10\" valign=\"top\">pa</th>\n",
       "      <th>4</th>\n",
       "      <td>-0.0062</td>\n",
       "    </tr>\n",
       "    <tr>\n",
       "      <th>38</th>\n",
       "      <td>-0.0253</td>\n",
       "    </tr>\n",
       "    <tr>\n",
       "      <th>40</th>\n",
       "      <td>-0.0314</td>\n",
       "    </tr>\n",
       "    <tr>\n",
       "      <th>41</th>\n",
       "      <td>-0.0706</td>\n",
       "    </tr>\n",
       "    <tr>\n",
       "      <th>45</th>\n",
       "      <td>0.0085</td>\n",
       "    </tr>\n",
       "    <tr>\n",
       "      <th>47</th>\n",
       "      <td>-0.0707</td>\n",
       "    </tr>\n",
       "    <tr>\n",
       "      <th>48</th>\n",
       "      <td>-0.1388</td>\n",
       "    </tr>\n",
       "    <tr>\n",
       "      <th>49</th>\n",
       "      <td>-0.0188</td>\n",
       "    </tr>\n",
       "    <tr>\n",
       "      <th>51</th>\n",
       "      <td>-0.0012</td>\n",
       "    </tr>\n",
       "    <tr>\n",
       "      <th>52</th>\n",
       "      <td>0.0465</td>\n",
       "    </tr>\n",
       "  </tbody>\n",
       "</table>\n",
       "</div>"
      ],
      "text/plain": [
       "                                      asa_cvr3_slope\n",
       "entity_id country_code master_asa_id                \n",
       "AP_PA     pa           4                     -0.0062\n",
       "                       38                    -0.0253\n",
       "                       40                    -0.0314\n",
       "                       41                    -0.0706\n",
       "                       45                     0.0085\n",
       "                       47                    -0.0707\n",
       "                       48                    -0.1388\n",
       "                       49                    -0.0188\n",
       "                       51                    -0.0012\n",
       "                       52                     0.0465"
      ]
     },
     "metadata": {},
     "output_type": "display_data"
    }
   ],
   "source": [
    "# Display the results\n",
    "display(x.head(10))\n",
    "display(y.head(10))"
   ]
  },
  {
   "cell_type": "code",
   "execution_count": 114,
   "metadata": {},
   "outputs": [],
   "source": [
    "# Join the results to the original data frame\n",
    "df_vendor_merged = pd.merge(left=df_vendor, right=x, on=[\"entity_id\", \"country_code\", \"master_asa_id\", \"vendor_code\"], how=\"left\")\n",
    "df_asa_merged = pd.merge(left=df_asa, right=y, on=[\"entity_id\", \"country_code\", \"master_asa_id\"], how=\"left\")"
   ]
  },
  {
   "cell_type": "markdown",
   "metadata": {},
   "source": [
    "### Step 4: Upload the dataset to GBQ"
   ]
  },
  {
   "cell_type": "code",
   "execution_count": 117,
   "metadata": {},
   "outputs": [],
   "source": [
    "job_config = bigquery.LoadJobConfig()\n",
    "\n",
    "# Set the job_config to overwrite the data in the table\n",
    "job_config.write_disposition = bigquery.WriteDisposition.WRITE_TRUNCATE\n",
    "\n",
    "# Upload the df_vendor frame to BQ\n",
    "job1 = client.load_table_from_dataframe(\n",
    "    dataframe=df_vendor_merged.reset_index(),\n",
    "    destination=\"dh-logistics-product-ops.pricing.cvr_per_df_bucket_vendor_level_loved_brands_scaled_code\",\n",
    "    job_config=job_config\n",
    ").result()\n",
    "\n",
    "# Upload the df_asa frame to BQ\n",
    "job2 = client.load_table_from_dataframe(\n",
    "    dataframe=df_asa_merged.reset_index(),\n",
    "    destination=\"dh-logistics-product-ops.pricing.cvr_per_df_bucket_asa_level_loved_brands_scaled_code\",\n",
    "    job_config=job_config\n",
    ").result()"
   ]
  }
 ],
 "metadata": {
  "kernelspec": {
   "display_name": "Python 3.10.7 ('venv_sb': venv)",
   "language": "python",
   "name": "python3"
  },
  "language_info": {
   "codemirror_mode": {
    "name": "ipython",
    "version": 3
   },
   "file_extension": ".py",
   "mimetype": "text/x-python",
   "name": "python",
   "nbconvert_exporter": "python",
   "pygments_lexer": "ipython3",
   "version": "3.10.7"
  },
  "orig_nbformat": 4,
  "vscode": {
   "interpreter": {
    "hash": "14e010e4cd1c1ecfc2a757c09121a44deab645fe879881bec23ed2eed3f5394d"
   }
  }
 },
 "nbformat": 4,
 "nbformat_minor": 2
}
